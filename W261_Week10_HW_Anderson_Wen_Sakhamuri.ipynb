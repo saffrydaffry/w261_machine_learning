{
 "cells": [
  {
   "cell_type": "markdown",
   "metadata": {},
   "source": [
    "# ========================================================================\n",
    "# ==MIDS UC Berkeley, Machine Learning at Scale DATSCI W261 ASSIGNMENT No. 10==\n",
    "\n",
    "Names Safyre Anderson, Howard Wen , Vamsi Sakhamuri\n",
    "Emails safyre@berkeley.edu, howard.wen1@gmail.com, vamsi@ischool.berkeley.edu\n",
    "Time of Initial Submission: March 29th, 2016 8am PST\n",
    "Section W261-3, Spring 2016\n",
    "Week 10 Homework\n"
   ]
  },
  {
   "cell_type": "markdown",
   "metadata": {},
   "source": [
    "## ===HW 10.0: Short answer questions===\n",
    "\n",
    "*What is Apache Spark and how is it different to Apache Hadoop?*\n",
    "\n",
    "Like Apache Hadoop, Apache Spark is an open sourced Apache project. It was created to tackle the processing and analysis of big data--a similar application to Hadoop. Also like Hadoop, Spark employs a similar framework to Hadoop where a master node sends instructions to several nodes that contain fragments of the distributed dataset. However there are many key differences with Spark. In Spark, data are stored in RDDs, which are immutable and distributed among executors--Sparks analog to worker nodes. The key difference in sparks executors is that they store data in-memory, allowing much faster processing than Hadoop (which stores data into hard-disk). Furthermore, Hadoop supports iterative Map Reduce jobs, which not only do not allow interactivity, but also implements the jobs sequentially--usually with many reads and writes between tasks. Spark allows users to build applications or interact with their data through shell scripting (via Scala (base language), Python (pyspark), or R (SparkR)). Spark also employs lazy evaluation meaning it doesn't process data at every step of code--it will only create a new RDD after a blueprint of transformation steps is punctuated by an action step.\n"
   ]
  },
  {
   "cell_type": "markdown",
   "metadata": {},
   "source": [
    "*Fill in the blanks:\n",
    "Spark API consists of interfaces to develop applications based on it in Java, **Scala**, **Python**, and **R** languages (list languages).* \n",
    "\n",
    "*Using Spark, resource management can be done either in a single server instance or using a framework such as Mesos or **YARN** in a distributed manner.*\n"
   ]
  },
  {
   "cell_type": "markdown",
   "metadata": {},
   "source": [
    "*What is an RDD and show a fun example of creating one and bringing the first element back to the driver program.*\n",
    "\n"
   ]
  },
  {
   "cell_type": "markdown",
   "metadata": {},
   "source": [
    "RDD stands for resilient distributed data. It is Spark's unit of data--an immutable distributed data structure that is split and shared across Spark's executors until an action is performed. Because it is immutable, when the data need to be transformed, Spark does not manipulate the data inplace--instead it creates brand new RDDs. \n",
    "\n",
    "Here's an example with sample data inspired by: marketingdistillery.com\n",
    "The format is \n",
    "\n",
    "`order date | order number | customer id | product id | order amount`"
   ]
  },
  {
   "cell_type": "code",
   "execution_count": 3,
   "metadata": {
    "collapsed": false
   },
   "outputs": [
    {
     "name": "stdout",
     "output_type": "stream",
     "text": [
      "Writing example.txt\n"
     ]
    }
   ],
   "source": [
    "%%writefile example.txt\n",
    "2014-01-01|236|30|P18|308\n",
    "2014-01-01|237|40|P26|328\n",
    "2014-01-02|238|74|P40|230\n",
    "2014-01-02|239|7|P39|286"
   ]
  },
  {
   "cell_type": "code",
   "execution_count": 2,
   "metadata": {
    "collapsed": false
   },
   "outputs": [
    {
     "name": "stdout",
     "output_type": "stream",
     "text": [
      "Welcome to\n",
      "      ____              __\n",
      "     / __/__  ___ _____/ /__\n",
      "    _\\ \\/ _ \\/ _ `/ __/  '_/\n",
      "   /__ / .__/\\_,_/_/ /_/\\_\\   version 1.6.0\n",
      "      /_/\n",
      "\n",
      "Using Python version 2.7.11 (default, Dec  6 2015 18:57:58)\n",
      "SparkContext available as sc, HiveContext available as sqlContext.\n"
     ]
    }
   ],
   "source": [
    "import os\n",
    "import sys\n",
    "import numpy as np\n",
    "\n",
    "# launch pyspark \n",
    "spark_home = os.environ['SPARK_HOME']\n",
    "\n",
    "if not spark_home:\n",
    "    raise ValueError('SPARK_HOME enviroment variable is not set')\n",
    "sys.path.insert(0,os.path.join(spark_home,'python'))\n",
    "sys.path.insert(0,os.path.join(spark_home,'python/lib/py4j-0.9-src.zip'))\n",
    "execfile(os.path.join(spark_home,'python/pyspark/shell.py'))"
   ]
  },
  {
   "cell_type": "code",
   "execution_count": 10,
   "metadata": {
    "collapsed": false
   },
   "outputs": [
    {
     "name": "stdout",
     "output_type": "stream",
     "text": [
      "{'date': \"[u'2014-01-01'\", 'order_id': \" u'236'\", 'customer_id': \" u'30'\", 'product_id': \" u'P18'\", 'order_amount': \" u'308']\"}\n"
     ]
    }
   ],
   "source": [
    "# read the file as an rdd.  Spark will automatically parallelize it\n",
    "from datetime import datetime\n",
    "import csv\n",
    "import StringIO\n",
    "dataRDD = sc.textFile(\"example.txt\")\n",
    "\n",
    "# create a function to process data\n",
    "def parse_lines(line):\n",
    "    #line = line.split(\"|\")\n",
    "    # change date to datetime from string\n",
    "    #line[0] = datetime.strptime(line[0], \"%Y-%m-%d\")\n",
    "    line = StringIO.StringIO(line.strip().split(\"|\"))\n",
    "    reader = csv.DictReader(line, fieldnames = ['date','order_id','customer_id','product_id','order_amount'])\n",
    "    return reader.next()\n",
    "dataSplit= dataRDD.map(parse_lines).first()\n",
    "\n",
    "print dataSplit"
   ]
  },
  {
   "cell_type": "markdown",
   "metadata": {},
   "source": [
    "*What is lazy evaluation and give an intuitive example of lazy evaluation and comment on the massive computational savings to be had from lazy evaluation.*\n",
    "\n",
    "Lazy evaluation refers to the delay in processing until the last possible moment. Spark utilizes Lazy Evaluation with Big Data in mind. With large datasets, even simple processing can consume enormous compute power. If a job requires numerous sequential steps, processing each step as it occurs can be incredibly expensive. Instead, Spark remembers a blueprint of steps that lead to the final result and only processes those steps when an action such as collect() is called."
   ]
  },
  {
   "cell_type": "markdown",
   "metadata": {},
   "source": [
    "\n",
    "## ===HW 10.1: ===\n",
    "*In Spark write the code to count how often each word appears in a text document (or set of documents). Please use this homework document as a the example document to run an experiment.  Report the following: provide a sorted list of tokens in decreasing order of frequency of occurence.*\n"
   ]
  },
  {
   "cell_type": "code",
   "execution_count": 35,
   "metadata": {
    "collapsed": false
   },
   "outputs": [
    {
     "name": "stdout",
     "output_type": "stream",
     "text": [
      "46 the\n",
      "23 and\n",
      "18 in\n",
      "17 of\n",
      "12 a\n",
      "11 for\n",
      "9 code\n",
      "9 to\n",
      "8 is\n",
      "8 data\n",
      "7 with\n",
      "7 this\n",
      "7 Using\n",
      "7 on\n",
      "7 your\n",
      "6 KMeans\n",
      "6 HW\n",
      "5 from\n",
      "5 as\n",
      "4 What\n",
      "4 Sum\n",
      "4 Comment\n",
      "4 Squared\n",
      "4 each\n",
      "4 linear\n",
      "4 example\n",
      "4 Set\n",
      "4 clusters\n",
      "3 report\n",
      "3 words\n",
      "3 available\n",
      "3 lazy\n",
      "3 training\n",
      "3 count\n",
      "3 Please\n",
      "3 following\n",
      "3 Spark\n",
      "3 model\n",
      "3 Errors\n",
      "3 results\n",
      "3 using\n",
      "3 Within\n",
      "3 x\n",
      "3 import\n",
      "3 after\n",
      "3 plot\n",
      "3 it\n",
      "3 an\n",
      "3 regression\n",
      "3 document\n",
      "3 provided\n",
      "2 Apache\n",
      "2 homework\n",
      "2 list\n",
      "2 per\n",
      "2 Report\n",
      "2 evaluation\n",
      "2 run\n",
      "2 here\n",
      "2 iterations\n",
      "2 RIDGE\n",
      "2 word\n",
      "2 NOTE\n",
      "2 Generate\n",
      "2 set\n",
      "2 testing\n",
      "2 vector\n",
      "2 between\n",
      "2 be\n",
      "2 found\n",
      "2 how\n",
      "2 via\n",
      "2 or\n",
      "2 one\n",
      "2 that\n",
      "2 differences\n",
      "2 up\n",
      "2 any\n",
      "2 decreasing\n",
      "2 repeat\n",
      "2 points\n",
      "2 In\n",
      "2 order\n",
      "2 Fill\n",
      "1 sameModel\n",
      "1 load\n",
      "1 all\n",
      "1 intuitoive\n",
      "1 consists\n",
      "1 snippet\n",
      "1 group\n",
      "1 parameters\n",
      "1 implementation\n",
      "1 Modify\n",
      "1 Here\n",
      "1 languages\n",
      "1 weeks\n",
      "1 submissions\n",
      "1 case\n",
      "1 return\n",
      "1 homeworks\n",
      "1 compute\n",
      "1 bringing\n",
      "1 runs\n",
      "1 resource\n",
      "1 SPECIAL\n",
      "1 Learning\n",
      "1 where\n",
      "1 findings\n",
      "1 generation\n",
      "1 Run\n",
      "1 please\n",
      "1 labeled\n",
      "1 cell\n",
      "1 above\n",
      "1 math\n",
      "1 This\n",
      "1 interfaces\n",
      "1 modify\n",
      "1 fun\n",
      "1 not\n",
      "1 based\n",
      "1 Weight\n",
      "1 column\n",
      "1 completing\n",
      "1 length\n",
      "1 resulting\n",
      "1 Download\n",
      "1 UC\n",
      "1 comment\n",
      "1 letters\n",
      "1 distributed\n",
      "1 done\n",
      "1 DATSCI\n",
      "1 array\n",
      "1 clustering\n",
      "1 use\n",
      "1 submit\n",
      "1 Homeworks\n",
      "1 numpy\n",
      "1 sort\n",
      "1 form\n",
      "1 tokens\n",
      "1 forward\n",
      "1 had\n",
      "1 Load\n",
      "1 Machine\n",
      "1 single\n",
      "1 See\n",
      "1 def\n",
      "1 links\n",
      "1 parse\n",
      "1 Call\n",
      "1 tab\n",
      "1 WSSSE\n",
      "1 different\n",
      "1 develop\n",
      "1 provide\n",
      "1 sqrt\n",
      "1 write\n",
      "1 answer\n",
      "1 begin\n",
      "1 driver\n",
      "1 tune\n",
      "1 lower\n",
      "1 Mesos\n",
      "1 savings\n",
      "1 algorithms\n",
      "1 hyper\n",
      "1 show\n",
      "1 text\n",
      "1 follow\n",
      "1 Final\n",
      "1 inverse\n",
      "1 Linear\n",
      "1 la\n",
      "1 going\n",
      "1 do\n",
      "1 good\n",
      "1 get\n",
      "1 evaluate\n",
      "1 Kmean\n",
      "1 framework\n",
      "1 made\n",
      "1 instance\n",
      "1 progress\n",
      "1 sorted\n",
      "1 dataset\n",
      "1 instructions\n",
      "1 follows\n",
      "1 server\n",
      "1 assignments\n",
      "1 API\n",
      "1 either\n",
      "1 Again\n",
      "1 often\n",
      "1 ASSIGNMENT\n",
      "1 experiments\n",
      "1 frequency\n",
      "1 are\n",
      "1 X\n",
      "1 measure\n",
      "1 MLLib\n",
      "1 experiements\n",
      "1 Save\n",
      "1 parsedData\n",
      "1 Evaluate\n",
      "1 separate\n",
      "1 find\n",
      "1 weighted\n",
      "1 Regression\n",
      "1 Short\n",
      "1 creating\n",
      "1 team\n",
      "1 Team\n",
      "1 plots\n",
      "1 by\n",
      "1 Justify\n",
      "1 KMEans\n",
      "1 massive\n",
      "1 first\n",
      "1 computational\n",
      "1 Plot\n",
      "1 number\n",
      "1 Scale\n",
      "1 such\n",
      "1 management\n",
      "1 give\n",
      "1 appears\n",
      "1 INSTURCTIONS\n",
      "1 thru\n",
      "1 more\n",
      "1 back\n",
      "1 RDD\n",
      "1 train\n",
      "1 Error\n",
      "1 work\n",
      "1 can\n",
      "1 KMeansModel\n",
      "1 Your\n",
      "1 Build\n",
      "1 LinearRegressionWithSGD\n",
      "1 computing\n",
      "1 cluster\n",
      "1 at\n",
      "1 Then\n",
      "1 descent\n",
      "1 output\n",
      "1 located\n",
      "1 other\n",
      "1 blanks\n",
      "1 assignment\n",
      "1 applications\n",
      "1 notebook\n",
      "1 DropBox\n",
      "1 center\n",
      "1 sets\n",
      "1 element\n"
     ]
    }
   ],
   "source": [
    "hwText = sc.textFile(\"MIDS-MLS-HW-10.txt\")\n",
    "# split up the data into one big line\n",
    "#then transform into word count pairs\n",
    "# map, creates a (word, 1) key value pair\n",
    "# reducebykey adds the counts for each key/word\n",
    "# map again to swap keys and values so we can lastly\n",
    "# sort by key, ascending = False\n",
    "words = hwText.flatMap(lambda x: x.split(\" \")).filter(lambda x: x.isalpha())\n",
    "counts = words.map(lambda x: (x,1)) \\\n",
    "        .reduceByKey(lambda x, y: x+y) \\\n",
    "        .map(lambda x: (x[1], x[0])) \\\n",
    "        .sortByKey(False).collect()\n",
    "for word, count in counts:\n",
    "    print word, count"
   ]
  },
  {
   "cell_type": "markdown",
   "metadata": {},
   "source": [
    "### HW 10.1.1\n",
    "*Modify the above word count code to count words that begin with lower case letters (a-z) and report your findings. Again sort the output words in decreasing order of frequency.*"
   ]
  },
  {
   "cell_type": "code",
   "execution_count": 36,
   "metadata": {
    "collapsed": false
   },
   "outputs": [
    {
     "name": "stdout",
     "output_type": "stream",
     "text": [
      "46 the\n",
      "23 and\n",
      "18 in\n",
      "17 of\n",
      "12 a\n",
      "11 for\n",
      "9 code\n",
      "9 to\n",
      "8 is\n",
      "8 data\n",
      "7 with\n",
      "7 this\n",
      "7 on\n",
      "7 your\n",
      "5 from\n",
      "5 as\n",
      "4 clusters\n",
      "4 each\n",
      "4 linear\n",
      "4 example\n",
      "3 report\n",
      "3 words\n",
      "3 available\n",
      "3 lazy\n",
      "3 following\n",
      "3 training\n",
      "3 count\n",
      "3 model\n",
      "3 results\n",
      "3 using\n",
      "3 import\n",
      "3 x\n",
      "3 plot\n",
      "3 it\n",
      "3 an\n",
      "3 regression\n",
      "3 document\n",
      "3 provided\n",
      "3 after\n",
      "2 homework\n",
      "2 list\n",
      "2 per\n",
      "2 evaluation\n",
      "2 run\n",
      "2 here\n",
      "2 iterations\n",
      "2 word\n",
      "2 found\n",
      "2 set\n",
      "2 testing\n",
      "2 vector\n",
      "2 between\n",
      "2 be\n",
      "2 how\n",
      "2 via\n",
      "2 or\n",
      "2 one\n",
      "2 that\n",
      "2 differences\n",
      "2 up\n",
      "2 any\n",
      "2 repeat\n",
      "2 points\n",
      "2 decreasing\n",
      "2 order\n",
      "1 sameModel\n",
      "1 load\n",
      "1 all\n",
      "1 intuitoive\n",
      "1 consists\n",
      "1 snippet\n",
      "1 group\n",
      "1 parameters\n",
      "1 implementation\n",
      "1 distributed\n",
      "1 languages\n",
      "1 weeks\n",
      "1 submissions\n",
      "1 case\n",
      "1 return\n",
      "1 homeworks\n",
      "1 compute\n",
      "1 bringing\n",
      "1 runs\n",
      "1 resource\n",
      "1 where\n",
      "1 findings\n",
      "1 generation\n",
      "1 please\n",
      "1 cell\n",
      "1 above\n",
      "1 math\n",
      "1 interfaces\n",
      "1 modify\n",
      "1 not\n",
      "1 based\n",
      "1 column\n",
      "1 completing\n",
      "1 length\n",
      "1 resulting\n",
      "1 comment\n",
      "1 letters\n",
      "1 had\n",
      "1 done\n",
      "1 array\n",
      "1 clustering\n",
      "1 use\n",
      "1 submit\n",
      "1 forward\n",
      "1 numpy\n",
      "1 sort\n",
      "1 form\n",
      "1 tokens\n",
      "1 labeled\n",
      "1 fun\n",
      "1 def\n",
      "1 links\n",
      "1 parse\n",
      "1 single\n",
      "1 tab\n",
      "1 different\n",
      "1 develop\n",
      "1 provide\n",
      "1 sqrt\n",
      "1 write\n",
      "1 answer\n",
      "1 begin\n",
      "1 driver\n",
      "1 tune\n",
      "1 lower\n",
      "1 savings\n",
      "1 algorithms\n",
      "1 hyper\n",
      "1 show\n",
      "1 text\n",
      "1 follow\n",
      "1 find\n",
      "1 inverse\n",
      "1 instance\n",
      "1 going\n",
      "1 do\n",
      "1 good\n",
      "1 get\n",
      "1 evaluate\n",
      "1 framework\n",
      "1 sorted\n",
      "1 dataset\n",
      "1 instructions\n",
      "1 follows\n",
      "1 server\n",
      "1 assignments\n",
      "1 experiments\n",
      "1 either\n",
      "1 often\n",
      "1 back\n",
      "1 frequency\n",
      "1 are\n",
      "1 measure\n",
      "1 experiements\n",
      "1 creating\n",
      "1 parsedData\n",
      "1 separate\n",
      "1 progress\n",
      "1 team\n",
      "1 plots\n",
      "1 by\n",
      "1 la\n",
      "1 massive\n",
      "1 first\n",
      "1 computational\n",
      "1 number\n",
      "1 weighted\n",
      "1 management\n",
      "1 give\n",
      "1 appears\n",
      "1 thru\n",
      "1 more\n",
      "1 train\n",
      "1 made\n",
      "1 work\n",
      "1 can\n",
      "1 computing\n",
      "1 cluster\n",
      "1 at\n",
      "1 descent\n",
      "1 output\n",
      "1 located\n",
      "1 other\n",
      "1 blanks\n",
      "1 assignment\n",
      "1 applications\n",
      "1 notebook\n",
      "1 such\n",
      "1 center\n",
      "1 sets\n",
      "1 element\n"
     ]
    }
   ],
   "source": [
    "hwText = sc.textFile(\"MIDS-MLS-HW-10.txt\")\n",
    "# split up the data into one big line\n",
    "#then transform into word count pairs\n",
    "# map, creates a (word, 1) key value pair\n",
    "# reducebykey adds the counts for each key/word\n",
    "# map again to swap keys and values so we can lastly\n",
    "# sort by key, ascending = False\n",
    "words = hwText.flatMap(lambda x: x.split(\" \")).filter(lambda x: x.isalpha() and x[0].islower())\n",
    "counts = words.map(lambda x: (x,1)) \\\n",
    "        .reduceByKey(lambda x, y: x+y) \\\n",
    "        .map(lambda x: (x[1], x[0])) \\\n",
    "        .sortByKey(False).collect()\n",
    "for word, count in counts:\n",
    "    print word, count"
   ]
  },
  {
   "cell_type": "markdown",
   "metadata": {},
   "source": [
    "## ===HW 10.2: KMeans a la MLLib ===\n",
    "*Using the following  MLlib-centric KMeans code snippet: \n",
    "Run this code snippet and list the clusters that your find and compute the Within Set Sum of Squared Errors for the found clusters. Comment on your findings.*"
   ]
  },
  {
   "cell_type": "code",
   "execution_count": 37,
   "metadata": {
    "collapsed": false
   },
   "outputs": [
    {
     "name": "stdout",
     "output_type": "stream",
     "text": [
      "--2016-03-29 05:18:04--  https://www.dropbox.com/s/q85t0ytb9apggnh/kmeans_data.txt?dl=0\n",
      "Resolving www.dropbox.com... 108.160.172.238\n",
      "Connecting to www.dropbox.com|108.160.172.238|:443... connected.\n",
      "HTTP request sent, awaiting response... 302 FOUND\n",
      "Location: https://dl.dropboxusercontent.com/content_link/c9I4izatYap9iiwP8kqFkPkspd0tvbh9Z2P5C7UghOJiwwshulppVLeLWrgSxOSQ/file [following]\n",
      "--2016-03-29 05:18:06--  https://dl.dropboxusercontent.com/content_link/c9I4izatYap9iiwP8kqFkPkspd0tvbh9Z2P5C7UghOJiwwshulppVLeLWrgSxOSQ/file\n",
      "Resolving dl.dropboxusercontent.com... 199.47.217.101\n",
      "Connecting to dl.dropboxusercontent.com|199.47.217.101|:443... connected.\n",
      "HTTP request sent, awaiting response... 200 OK\n",
      "Length: 72 [text/plain]\n",
      "Saving to: 'kmeans_data.txt'\n",
      "\n",
      "kmeans_data.txt     100%[=====================>]      72  --.-KB/s   in 0s     \n",
      "\n",
      "2016-03-29 05:18:06 (2.86 MB/s) - 'kmeans_data.txt' saved [72/72]\n",
      "\n"
     ]
    }
   ],
   "source": [
    "!wget -O kmeans_data.txt https://www.dropbox.com/s/q85t0ytb9apggnh/kmeans_data.txt?dl=0"
   ]
  },
  {
   "cell_type": "code",
   "execution_count": 43,
   "metadata": {
    "collapsed": false
   },
   "outputs": [
    {
     "name": "stdout",
     "output_type": "stream",
     "text": [
      "0.0 0.0 0.0\r\n",
      "0.1 0.1 0.1\r\n",
      "0.2 0.2 0.2\r\n",
      "9.0 9.0 9.0\r\n",
      "9.1 9.1 9.1\r\n",
      "9.2 9.2 9.2\r\n"
     ]
    }
   ],
   "source": [
    "!cat kmeans_data.txt"
   ]
  },
  {
   "cell_type": "code",
   "execution_count": 42,
   "metadata": {
    "collapsed": false
   },
   "outputs": [
    {
     "name": "stdout",
     "output_type": "stream",
     "text": [
      "Within Set Sum of Squared Error = 0.692820323028\n",
      "[0.1,0.1,0.1]\n",
      "[9.1,9.1,9.1]\n"
     ]
    }
   ],
   "source": [
    "from pyspark.mllib.clustering import KMeans, KMeansModel\n",
    "from numpy import array\n",
    "from math import sqrt\n",
    "\n",
    "# Load and parse the data\n",
    "# NOTE  kmeans_data.txt is available here \n",
    "#          https://www.dropbox.com/s/q85t0ytb9apggnh/kmeans_data.txt?dl=0 \n",
    "data = sc.textFile(\"kmeans_data.txt\")  \n",
    "parsedData = data.map(lambda line: array([float(x) for x in line.split(' ')]))\n",
    "\n",
    "# Build the model (cluster the data)\n",
    "clusters = KMeans.train(parsedData, 2, maxIterations=10,\n",
    "        runs=10, initializationMode=\"random\")\n",
    "\n",
    "# Evaluate clustering by computing Within Set Sum of Squared Errors\n",
    "def error(point):\n",
    "    center = clusters.centers[clusters.predict(point)]\n",
    "    return sqrt(sum([x**2 for x in (point - center)]))\n",
    "\n",
    "WSSSE = parsedData.map(lambda point: error(point)).reduce(lambda x, y: x + y)\n",
    "print(\"Within Set Sum of Squared Error = \" + str(WSSSE))\n",
    "\n",
    "# Save and load model\n",
    "# runs an error if the path already exists\n",
    "try:\n",
    "    clusters.save(sc, \"myModelPath\")\n",
    "except:\n",
    "    pass\n",
    "sameModel = KMeansModel.load(sc, \"myModelPath\")\n",
    "\n",
    "# print the cluster centers\n",
    "for center in sameModel.clusterCenters:\n",
    "    print center"
   ]
  },
  {
   "cell_type": "markdown",
   "metadata": {},
   "source": [
    "Our Kmeans model generated two clusters with very distinct centers. One centered close to the origin (for the first 3 rows most likely) and the other centered around 9.1s (for the last 3 rows of training data). For each set of clusters, the sample data are all only 0.1 different for each feature. This is reflected in our low WSSSE, which calculates the minimum average distances (error) between each training point within a cluster and that cluster's centroid."
   ]
  },
  {
   "cell_type": "markdown",
   "metadata": {},
   "source": [
    "## ==HW 10.3: ===\n",
    "Download the following KMeans notebook:\n",
    "\n",
    "https://www.dropbox.com/s/3nsthvp8g2rrrdh/EM-Kmeans.ipynb?dl=0\n",
    "\n",
    "*Generate 3 clusters with 100 (one hundred) data points per cluster (using the code provided). Plot the data.\n",
    "Then run MLlib's Kmean implementation on this data  and report your results as follows:*\n",
    "\n",
    "  - plot the resulting clusters after 1 iteration, 10 iterations, after 20 iterations, after 100 iterations.\n",
    "  - in each plot please report the Within Set Sum of Squared Errors for the found clusters. Comment on the progress of this measure as the KMEans algorithms runs for more iterations\n"
   ]
  },
  {
   "cell_type": "markdown",
   "metadata": {},
   "source": [
    "### Data generation from notebook"
   ]
  },
  {
   "cell_type": "code",
   "execution_count": 75,
   "metadata": {
    "collapsed": false
   },
   "outputs": [
    {
     "data": {
      "image/png": "[encoded data removed]",
      "text/plain": [
       "<matplotlib.figure.Figure at 0x1108dcc10>"
      ]
     },
     "metadata": {},
     "output_type": "display_data"
    }
   ],
   "source": [
    "%matplotlib inline\n",
    "import numpy as np\n",
    "import pylab \n",
    "import json\n",
    "size1 = size2 = size3 = 100\n",
    "samples1 = np.random.multivariate_normal([4, 0], [[1, 0],[0, 1]], size1)\n",
    "data = samples1\n",
    "samples2 = np.random.multivariate_normal([6, 6], [[1, 0],[0, 1]], size2)\n",
    "data = np.append(data,samples2, axis=0)\n",
    "samples3 = np.random.multivariate_normal([0, 4], [[1, 0],[0, 1]], size3)\n",
    "data = np.append(data,samples3, axis=0)\n",
    "\n",
    "# Randomize data\n",
    "data = data[np.random.permutation(size1+size2+size3),]\n",
    "np.savetxt('data.csv',data,delimiter = ',')\n",
    "\n",
    "pylab.plot(samples1[:, 0], samples1[:, 1],'*', color = 'red')\n",
    "pylab.plot(samples2[:, 0], samples2[:, 1],'o',color = 'blue')\n",
    "pylab.plot(samples3[:, 0], samples3[:, 1],'+',color = 'green')\n",
    "pylab.show()"
   ]
  },
  {
   "cell_type": "markdown",
   "metadata": {},
   "source": [
    "### Helper Functions"
   ]
  },
  {
   "cell_type": "code",
   "execution_count": 84,
   "metadata": {
    "collapsed": true
   },
   "outputs": [],
   "source": [
    "#Calculate which class each data point belongs to\n",
    "def nearest_centroid(line):\n",
    "    x = np.array([float(f) for f in line.split(',')])\n",
    "    closest_centroid_idx = np.sum((x - centroids)**2, axis=1).argmin()\n",
    "    return (closest_centroid_idx,(x,1))\n",
    "\n",
    "#plot centroids and data points for each iteration\n",
    "def plot_iteration(means):\n",
    "    pylab.plot(samples1[:, 0], samples1[:, 1], '.', color = 'blue')\n",
    "    pylab.plot(samples2[:, 0], samples2[:, 1], '.', color = 'blue')\n",
    "    pylab.plot(samples3[:, 0], samples3[:, 1],'.', color = 'blue')\n",
    "    pylab.plot(means[0][0], means[0][1],'*',markersize =10,color = 'red')\n",
    "    pylab.plot(means[1][0], means[1][1],'*',markersize =10,color = 'red')\n",
    "    pylab.plot(means[2][0], means[2][1],'*',markersize =10,color = 'red')\n",
    "    pylab.show()\n",
    "    \n",
    "# calculate WSSSE\n",
    "#WSSSE = Data.map(lambda point: error(point)).reduce(lambda x, y: x + y)\n",
    "# Evaluate clustering by computing Within Set Sum of Squared Errors\n",
    "def error2(point, center):\n",
    "    #center = clusters.centers[clusters.predict(point)]\n",
    "    return sqrt(sum([(i-j)**2 for i,j in zip(point, center)]))"
   ]
  },
  {
   "cell_type": "markdown",
   "metadata": {},
   "source": [
    "### Kmeans"
   ]
  },
  {
   "cell_type": "code",
   "execution_count": 86,
   "metadata": {
    "collapsed": false
   },
   "outputs": [
    {
     "name": "stdout",
     "output_type": "stream",
     "text": [
      "Iteration1\n",
      "[[ 1.83142117 -0.64359973]\n",
      " [ 3.99541437  2.69966029]\n",
      " [ 1.87101289  5.51856852]]\n",
      "1483.73158435\n"
     ]
    },
    {
     "data": {
      "image/png": "[encoded data removed]",
      "text/plain": [
       "<matplotlib.figure.Figure at 0x10ff3afd0>"
      ]
     },
     "metadata": {},
     "output_type": "display_data"
    },
    {
     "name": "stdout",
     "output_type": "stream",
     "text": [
      "Iteration10\n",
      "[[ 4.01487044 -0.05763602]\n",
      " [ 6.0829721   6.02072743]\n",
      " [-0.13255921  4.0315548 ]]\n",
      "1648.69113081\n"
     ]
    },
    {
     "data": {
      "image/png": "[encoded data removed]",
      "text/plain": [
       "<matplotlib.figure.Figure at 0x110f158d0>"
      ]
     },
     "metadata": {},
     "output_type": "display_data"
    },
    {
     "name": "stdout",
     "output_type": "stream",
     "text": [
      "Iteration20\n",
      "[[ 4.01487044 -0.05763602]\n",
      " [ 6.0829721   6.02072743]\n",
      " [-0.13255921  4.0315548 ]]\n",
      "1648.69113081\n"
     ]
    },
    {
     "data": {
      "image/png": "[encoded data removed]",
      "text/plain": [
       "<matplotlib.figure.Figure at 0x110ed1a90>"
      ]
     },
     "metadata": {},
     "output_type": "display_data"
    },
    {
     "name": "stdout",
     "output_type": "stream",
     "text": [
      "Iteration100\n",
      "[[ 4.01487044 -0.05763602]\n",
      " [ 6.0829721   6.02072743]\n",
      " [-0.13255921  4.0315548 ]]\n",
      "1648.69113081\n"
     ]
    },
    {
     "data": {
      "image/png": "[encoded data removed]",
      "text/plain": [
       "<matplotlib.figure.Figure at 0x10f993d10>"
      ]
     },
     "metadata": {},
     "output_type": "display_data"
    },
    {
     "name": "stdout",
     "output_type": "stream",
     "text": [
      "Final Results:\n",
      "[[ 4.01487044 -0.05763602]\n",
      " [ 6.0829721   6.02072743]\n",
      " [-0.13255921  4.0315548 ]]\n",
      "1648.69113081\n"
     ]
    },
    {
     "data": {
      "image/png": "[encoded data removed]",
      "text/plain": [
       "<matplotlib.figure.Figure at 0x10ff3d7d0>"
      ]
     },
     "metadata": {},
     "output_type": "display_data"
    }
   ],
   "source": [
    "from numpy import array\n",
    "import numpy as np\n",
    "\n",
    "K = 3\n",
    "# Initialization: initialization of parameter is fixed to show an example\n",
    "centroids = np.array([[0.0,0.0],[2.0,2.0],[0.0,7.0]])\n",
    "\n",
    "# read and cache data in memory\n",
    "D = sc.textFile(\"./data.csv\").cache()\n",
    "\n",
    "iter_num = 0\n",
    "for i in range(100):  \n",
    "    # cluster, points, cluster_size\n",
    "    res = D.map(nearest_centroid).reduceByKey(lambda x,y : (x[0]+y[0],x[1]+y[1])).collect()\n",
    "    #res [(0, (array([  2.66546663e+00,   3.94844436e+03]), 1001)  ), \n",
    "    #     (2, (array([ 6023.84995923,  5975.48511018]), 1000)), \n",
    "    #     (1, (array([ 3986.85984761,    15.93153464]), 999))]\n",
    "    # res[1][1][1] returns 1000 here'\n",
    "    res = sorted(res,key = lambda x : x[0])  #sort based on clusted ID\n",
    "    centroids_new = np.array([x[1][0]/x[1][1] for x in res])  #divide by cluster size\n",
    "    # Stops at 7 iterations, can't see more unless\n",
    "    # we comment out\n",
    "    #if np.sum(np.absolute(centroids_new-centroids))<0.00001:\n",
    "    #    break\n",
    "    iter_num = iter_num + 1 \n",
    "    centroids = centroids_new\n",
    "    if iter_num in [1,10,20,100]:\n",
    "        print \"Iteration\" + str(iter_num)\n",
    "        print centroids\n",
    "        WSSSE = 0\n",
    "        SSE = [0,0,0]\n",
    "        for row in res:\n",
    "            SSE[row[0]] += error2(row[1][0], centroids[row[0]])\n",
    "        WSSSE = np.sum(SSE)\n",
    "        print WSSSE\n",
    "        plot_iteration(centroids)\n",
    "print \"Final Results:\"\n",
    "print centroids\n",
    "WSSSE = 0\n",
    "SSE = [0,0,0]\n",
    "for row in res:\n",
    "    SSE[row[0]] += error2(row[1][0], centroids[row[0]])\n",
    "    #res.map(lambda row: (row[0], error(row[1],centroids[row[0]]))).reduce(lambda x, y: x + y)\n",
    "WSSSE = np.sum(SSE)\n",
    "print WSSSE\n",
    "plot_iteration(centroids)"
   ]
  },
  {
   "cell_type": "markdown",
   "metadata": {},
   "source": [
    "Even with a very strict stopping condition (differences in centroid points < 0.001), the model converged after 7 iterations. Thus, there is no change in the centroids coordinates or the WSSSE in the subsequent iterations."
   ]
  },
  {
   "cell_type": "markdown",
   "metadata": {},
   "source": [
    "## ==HW 10.4: ===\n",
    "*Using the KMeans code (homegrown code) provided repeat the experiments in HW10.3. Comment on any differences between the results in HW10.3 and HW10.4. Explain.*"
   ]
  },
  {
   "cell_type": "code",
   "execution_count": 81,
   "metadata": {
    "collapsed": false
   },
   "outputs": [
    {
     "name": "stdout",
     "output_type": "stream",
     "text": [
      "Within Set Sum of Squared Error = 365.441569723\n",
      "[ 4.01487044 -0.05763602]\n",
      "[-0.13255921  4.0315548 ]\n",
      "[ 6.0829721   6.02072743]\n"
     ]
    }
   ],
   "source": [
    "from pyspark.mllib.clustering import KMeans, KMeansModel\n",
    "from numpy import array\n",
    "from math import sqrt\n",
    "\n",
    "# Load and parse the data\n",
    "# NOTE  kmeans_data.txt is available here \n",
    "#          https://www.dropbox.com/s/q85t0ytb9apggnh/kmeans_data.txt?dl=0 \n",
    "data = sc.textFile(\"./data.csv\").cache()\n",
    "parsedData = data.map(lambda line: array([float(x) for x in line.split(',')]))\n",
    "\n",
    "# Build the model (cluster the data)\n",
    "clusters = KMeans.train(parsedData, 3, maxIterations=10,\n",
    "        runs=10, initializationMode=\"random\")\n",
    "\n",
    "# Evaluate clustering by computing Within Set Sum of Squared Errors\n",
    "def error(point):\n",
    "    center = clusters.centers[clusters.predict(point)]\n",
    "    return sqrt(sum([x**2 for x in (point - center)]))\n",
    "\n",
    "WSSSE = parsedData.map(lambda point: error(point)).reduce(lambda x, y: x + y)\n",
    "print(\"Within Set Sum of Squared Error = \" + str(WSSSE))\n",
    "\n",
    "# Save and load model\n",
    "# runs an error if the path already exists\n",
    "try:\n",
    "    clusters.save(sc, \"myModelPath2\")\n",
    "except:\n",
    "    pass\n",
    "sameModel = KMeansModel.load(sc, \"myModelPath2\")\n",
    "\n",
    "# print the cluster centers\n",
    "for center in clusters.clusterCenters:\n",
    "    print center"
   ]
  },
  {
   "cell_type": "markdown",
   "metadata": {},
   "source": [
    "ANSWER FROM 10.3\n",
    "\n",
    "`[[ 4.01487044 -0.05763602]\n",
    " [ 6.0829721   6.02072743]\n",
    " [-0.13255921  4.0315548 ]]`\n",
    " \n",
    " The final centroid coordinates for 3 clusters are exactly the same for both Kmeans scripts. This is despite different initialized centroid coordinates. Because Kmeans is a non supervised and relatively simple clustering algorithm, this robustness in answers is likely an artifact of our simple training data: low dimensionality, artificially produce samples, and small sample size.  However the WSSSE here is much lower at 365 vs 1650 for 10.3. This may be due to a programming error, but I haven't figured out how the calculation might have been done differently/incorrectly--it looks like the same math to me!"
   ]
  },
  {
   "cell_type": "code",
   "execution_count": null,
   "metadata": {
    "collapsed": true
   },
   "outputs": [],
   "source": []
  }
 ],
 "metadata": {
  "kernelspec": {
   "display_name": "Python 2",
   "language": "python",
   "name": "python2"
  },
  "language_info": {
   "codemirror_mode": {
    "name": "ipython",
    "version": 2
   },
   "file_extension": ".py",
   "mimetype": "text/x-python",
   "name": "python",
   "nbconvert_exporter": "python",
   "pygments_lexer": "ipython2",
   "version": "2.7.11"
  }
 },
 "nbformat": 4,
 "nbformat_minor": 0
}
