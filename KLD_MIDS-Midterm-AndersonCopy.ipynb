{
 "cells": [
  {
   "cell_type": "markdown",
   "metadata": {},
   "source": [
    "## Using the MRJob Class below  calculate the  KL divergence of the following two objects."
   ]
  },
  {
   "cell_type": "code",
   "execution_count": null,
   "metadata": {
    "collapsed": false
   },
   "outputs": [],
   "source": [
    "%%writefile kltext.txt\n",
    "1.Data Science is an interdisciplinary field about processes and systems to extract knowledge or insights from large volumes of data in various forms (data in various forms, data in various forms, data in various forms), either structured or unstructured,[1][2] which is a continuation of some of the data analysis fields such as statistics, data mining and predictive analytics, as well as Knowledge Discovery in Databases.\n",
    "2.Machine learning is a subfield of computer science[1] that evolved from the study of pattern recognition and computational learning theory in artificial intelligence.[1] Machine learning explores the study and construction of algorithms that can learn from and make predictions on data.[2] Such algorithms operate by building a model from example inputs in order to make data-driven predictions or decisions,[3]:2 rather than following strictly static program instructions."
   ]
  },
  {
   "cell_type": "markdown",
   "metadata": {},
   "source": [
    "## MRjob class for calculating pairwise similarity using K-L Divergence as the similarity measure\n",
    "\n",
    "Job 1: create inverted index (assume just two objects) <P>\n",
    "Job 2: calculate the similarity of each pair of objects "
   ]
  },
  {
   "cell_type": "code",
   "execution_count": null,
   "metadata": {
    "collapsed": false
   },
   "outputs": [],
   "source": [
    "import numpy as np\n",
    "np.log(3)"
   ]
  },
  {
   "cell_type": "code",
   "execution_count": 1,
   "metadata": {
    "collapsed": false
   },
   "outputs": [
    {
     "name": "stdout",
     "output_type": "stream",
     "text": [
      "Overwriting kldivergence.py\n"
     ]
    }
   ],
   "source": [
    "%%writefile kldivergence.py\n",
    "#!/usr/bin/env python\n",
    "from mrjob.job import MRJob\n",
    "from mrjob.step import MRStep\n",
    "import re\n",
    "import numpy as np\n",
    "\n",
    "class kldivergence(MRJob):\n",
    "    ## line 1 = P\n",
    "    ## line 2 = Q\n",
    "    \n",
    "    def mapper1(self, _, line):\n",
    "        index = int(line.split('.',1)[0])\n",
    "        ## replaces everything that is not a letter into nothing\n",
    "        # all letters get smushed into one big line\n",
    "        letter_list = re.sub(r\"[^A-Za-z]+\", '', line).lower()\n",
    "        count = {}\n",
    "        # Count occurances of each character\n",
    "        for l in letter_list:\n",
    "            if count.has_key(l):\n",
    "                count[l] += 1\n",
    "            # still counts 1, so no log(0)\n",
    "            else:\n",
    "                count[l] = 1\n",
    "        for key in count:\n",
    "            yield key, [index, count[key]*1.0/len(letter_list)]\n",
    "\n",
    "\n",
    "    def reducer1(self, letter, index_prior_pair):\n",
    "        #Fill in your code\n",
    "        # emit partial sums of KLD for each i\n",
    "        # where i is a letter\n",
    "        P_dict = {}\n",
    "        Q_dict = {}\n",
    "        \n",
    "        for index, prior in index_prior_pair:\n",
    "            if index == 1:\n",
    "                P_dict.setdefault(letter,1)\n",
    "                P_dict[letter] = float(prior)\n",
    "            \n",
    "            if index == 2:\n",
    "                Q_dict.setdefault(letter,1)\n",
    "                Q_dict[letter] = float(prior)\n",
    "            \n",
    "            # partial sum can also be written as:\n",
    "            # p(i)*log(p(i) - p(i)*log(q(i)) \n",
    "            # --> if q(i) is 0, second term is basically 0 \n",
    "            \n",
    "            for key in P_dict.keys():\n",
    "                term1 = P_dict[key] * np.log(P_dict[key])\n",
    "                try: \n",
    "                    term2 = P_dict[key] * np.log(Q_dict[key])\n",
    "                    partial_sum = term1 - term2\n",
    "                    yield key, partial_sum\n",
    "                except KeyError:\n",
    "                    partial_sum = 0\n",
    "                    yield key, partial_sum\n",
    "                \n",
    "            \n",
    "    def combiner2(self, key, values):\n",
    "        kl_sum = 0\n",
    "        for value in values:\n",
    "            kl_sum = kl_sum + value\n",
    "        yield None, kl_sum\n",
    "        \n",
    "    def reducer2(self, key, values):\n",
    "        kl_sum = 0\n",
    "        for value in values:\n",
    "            kl_sum = kl_sum + value\n",
    "        yield None, kl_sum\n",
    "        \n",
    "            \n",
    "    def steps(self):\n",
    "        return [MRStep(mapper=self.mapper1,\n",
    "                        reducer=self.reducer1),\n",
    "                MRStep(combiner = self.combiner2,\n",
    "                       reducer=self.reducer2)]\n",
    "\n",
    "if __name__ == '__main__':\n",
    "    kldivergence.run()"
   ]
  },
  {
   "cell_type": "code",
   "execution_count": 2,
   "metadata": {
    "collapsed": false
   },
   "outputs": [
    {
     "name": "stdout",
     "output_type": "stream",
     "text": [
      "(None, 0.08088278445318145)\n"
     ]
    }
   ],
   "source": [
    "from kldivergence import kldivergence\n",
    "mr_job = kldivergence(args=['kltext.txt'])\n",
    "with mr_job.make_runner() as runner: \n",
    "    runner.run()\n",
    "    # stream_output: get access of the output \n",
    "    for line in runner.stream_output():\n",
    "        print mr_job.parse_output_line(line)"
   ]
  },
  {
   "cell_type": "code",
   "execution_count": null,
   "metadata": {
    "collapsed": false
   },
   "outputs": [],
   "source": [
    "!chmod a+x kldivergence.py\n",
    "!./kldivergence.py kltext.txt >kltextoutput.txt"
   ]
  },
  {
   "cell_type": "code",
   "execution_count": null,
   "metadata": {
    "collapsed": false
   },
   "outputs": [],
   "source": [
    "!cat ./kltextoutput.txt"
   ]
  },
  {
   "cell_type": "code",
   "execution_count": 13,
   "metadata": {
    "collapsed": false
   },
   "outputs": [
    {
     "name": "stdout",
     "output_type": "stream",
     "text": [
      "j\n",
      "q\n",
      "z\n"
     ]
    }
   ],
   "source": [
    "## Part 7:\n",
    "import string, re\n",
    "alphabet=string.ascii_lowercase\n",
    "\n",
    "str1 = \"Data Science is an interdisciplinary field about processes and systems to extract knowledge or insights from large volumes of data in various forms (data in various forms, data in various forms, data in various forms), either structured or unstructured,[1][2] which is a continuation of some of the data analysis fields such as statistics, data mining and predictive analytics, as well as Knowledge Discovery in Databases\"\n",
    "str2 = \"Machine learning is a subfield of computer science[1] that evolved from the study of pattern recognition and computational learning theory in artificial intelligence.[1] Machine learning explores the study and construction of algorithms that can learn from and make predictions on data.[2] Such algorithms operate by building a model from example inputs in order to make data-driven predictions or decisions,[3]:2 rather than following strictly static program instructions\"\n",
    "\n",
    "tot_str = str1+str2\n",
    "\n",
    "tot_str = re.sub(r\"[^A-Za-z]+\", '', tot_str).lower()\n",
    "\n",
    "#print set(tot_str)\n",
    "for i in alphabet:\n",
    "    if i not in tot_str:\n",
    "        print i"
   ]
  },
  {
   "cell_type": "code",
   "execution_count": 11,
   "metadata": {
    "collapsed": false
   },
   "outputs": [
    {
     "name": "stdout",
     "output_type": "stream",
     "text": [
      "abcdefghijklmnopqrstuvwxyz\n"
     ]
    }
   ],
   "source": [
    "print alphabet"
   ]
  },
  {
   "cell_type": "code",
   "execution_count": 14,
   "metadata": {
    "collapsed": false
   },
   "outputs": [
    {
     "name": "stdout",
     "output_type": "stream",
     "text": [
      "Writing kldivergencesmooth.py\n"
     ]
    }
   ],
   "source": [
    "%%writefile kldivergencesmooth.py\n",
    "#!/usr/bin/env python\n",
    "from mrjob.job import MRJob\n",
    "from mrjob.step import MRStep\n",
    "import re\n",
    "import numpy as np\n",
    "\n",
    "class kldivergencesmooth(MRJob):\n",
    "    ## line 1 = P\n",
    "    ## line 2 = Q\n",
    "    \n",
    "    def mapper1(self, _, line):\n",
    "        index = int(line.split('.',1)[0])\n",
    "        ## replaces everything that is not a letter into nothing\n",
    "        # all letters get smushed into one big line\n",
    "        letter_list = re.sub(r\"[^A-Za-z]+\", '', line).lower()\n",
    "        count = {}\n",
    "        # Count occurances of each character\n",
    "        for l in letter_list:\n",
    "            if count.has_key(l):\n",
    "                count[l] += 1\n",
    "            # still counts 1, so no log(0)\n",
    "            else:\n",
    "                count[l] = 1\n",
    "        for key in count:\n",
    "            yield key, [index, (count[key]*1.0+1)/(len(letter_list)+24)]\n",
    "\n",
    "\n",
    "    def reducer1(self, letter, index_prior_pair):\n",
    "        #Fill in your code\n",
    "        # emit partial sums of KLD for each i\n",
    "        # where i is a letter\n",
    "        P_dict = {}\n",
    "        Q_dict = {}\n",
    "        \n",
    "        for index, prior in index_prior_pair:\n",
    "            if index == 1:\n",
    "                P_dict.setdefault(letter,1)\n",
    "                P_dict[letter] = float(prior)\n",
    "            \n",
    "            if index == 2:\n",
    "                Q_dict.setdefault(letter,1)\n",
    "                Q_dict[letter] = float(prior)\n",
    "            \n",
    "            # partial sum can also be written as:\n",
    "            # p(i)*log(p(i) - p(i)*log(q(i)) \n",
    "            # --> if q(i) is 0, second term is basically 0 \n",
    "            \n",
    "            for key in P_dict.keys():\n",
    "                term1 = P_dict[key] * np.log(P_dict[key])\n",
    "                try: \n",
    "                    term2 = P_dict[key] * np.log(Q_dict[key])\n",
    "                    partial_sum = term1 - term2\n",
    "                    yield key, partial_sum\n",
    "                except KeyError:\n",
    "                    partial_sum = 0\n",
    "                    yield key, partial_sum\n",
    "                \n",
    "            \n",
    "    def combiner2(self, key, values):\n",
    "        kl_sum = 0\n",
    "        for value in values:\n",
    "            kl_sum = kl_sum + value\n",
    "        yield None, kl_sum\n",
    "        \n",
    "    def reducer2(self, key, values):\n",
    "        kl_sum = 0\n",
    "        for value in values:\n",
    "            kl_sum = kl_sum + value\n",
    "        yield None, kl_sum\n",
    "        \n",
    "            \n",
    "    def steps(self):\n",
    "        return [MRStep(mapper=self.mapper1,\n",
    "                        reducer=self.reducer1),\n",
    "                MRStep(combiner = self.combiner2,\n",
    "                       reducer=self.reducer2)]\n",
    "\n",
    "if __name__ == '__main__':\n",
    "    kldivergencesmooth.run()"
   ]
  },
  {
   "cell_type": "code",
   "execution_count": 15,
   "metadata": {
    "collapsed": false
   },
   "outputs": [
    {
     "name": "stdout",
     "output_type": "stream",
     "text": [
      "(None, 0.06726997279170045)\n"
     ]
    }
   ],
   "source": [
    "from kldivergencesmooth import kldivergencesmooth\n",
    "mr_job = kldivergencesmooth(args=['kltext.txt'])\n",
    "with mr_job.make_runner() as runner: \n",
    "    runner.run()\n",
    "    # stream_output: get access of the output \n",
    "    for line in runner.stream_output():\n",
    "        print mr_job.parse_output_line(line)"
   ]
  },
  {
   "cell_type": "code",
   "execution_count": null,
   "metadata": {
    "collapsed": true
   },
   "outputs": [],
   "source": []
  }
 ],
 "metadata": {
  "kernelspec": {
   "display_name": "Python 2",
   "language": "python",
   "name": "python2"
  },
  "language_info": {
   "codemirror_mode": {
    "name": "ipython",
    "version": 2
   },
   "file_extension": ".py",
   "mimetype": "text/x-python",
   "name": "python",
   "nbconvert_exporter": "python",
   "pygments_lexer": "ipython2",
   "version": "2.7.11"
  }
 },
 "nbformat": 4,
 "nbformat_minor": 0
}
