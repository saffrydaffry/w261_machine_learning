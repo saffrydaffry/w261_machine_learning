{
 "cells": [
  {
   "cell_type": "code",
   "execution_count": null,
   "metadata": {
    "collapsed": true
   },
   "outputs": [],
   "source": [
    "## W261 Section 3 \n",
    "#### Safyre Anderson"
   ]
  },
  {
   "cell_type": "markdown",
   "metadata": {},
   "source": [
    "===Map-Reduce===\n",
    "\n",
    "MT0. Which of the following statememts about map-reduce are true? Check all that apply.\n",
    "\n",
    "(a) If you only have 1 computer with 1 computing core, then map-reduce is unlikely to help\n",
    "\n",
    "(b) If we run map-reduce using N computers, then we will always get at least an N-Fold speedup compared to using 1 computer\n",
    "\n",
    "(c) Because of network latency and other overhead associated with map-reduce, if we run map-reduce using N computers, then we will get less than N-Fold speedup compared to using 1 computer\n",
    "\n",
    "(d) When using map-reduce with gradient descent, we usually use a single machine that accumulates the gradients from each of the map-reduce machines, in order to compute the paramter update for the iterion\n",
    "\n",
    "\n"
   ]
  },
  {
   "cell_type": "markdown",
   "metadata": {},
   "source": [
    "Answer: (a),(c), and (d)"
   ]
  },
  {
   "cell_type": "markdown",
   "metadata": {},
   "source": [
    "===Order inversion===\n",
    "\n",
    "MT1. Suppose you wish to write a MapReduce job that creates \n",
    "normalized word co-occurrence data form a large input text. \n",
    "To ensure that all (potentially many) reducers\n",
    "receive appropriate normalization factors (denominators)\n",
    "in the correct order in their input streams\n",
    "(so as to minimize memory overhead), \n",
    "the mapper should emit according to which pattern:\n",
    "\n",
    "(a) emit (*,word) count\n",
    "\n",
    "(b) There is no need to use  order inversion here\n",
    "\n",
    "(c) emit (word,*) count\n",
    "\n",
    "(d) None of the above\n",
    "\n"
   ]
  },
  {
   "cell_type": "markdown",
   "metadata": {},
   "source": [
    "Answer: (c)"
   ]
  },
  {
   "cell_type": "markdown",
   "metadata": {},
   "source": [
    "===Apriori principle===\n",
    "\n",
    "MT2. When searching for frequent itemsets with the Apriori algorithm\n",
    "(using a threshold, N), the Apriori principle allows us to avoid \n",
    "tracking the occurrences of the itemset {A,B,C} provided\n",
    "\n",
    "(a) all subsets of {A,B,C} occur less than N times.\n",
    "\n",
    "(b) any pair of {A,B,C} occurs less than N times.\n",
    "\n",
    "(c) any subset of {A,B,C} occurs less than N times.\n",
    "\n",
    "(d) All of the above\n",
    "\n",
    "\n",
    "\n"
   ]
  },
  {
   "cell_type": "markdown",
   "metadata": {},
   "source": [
    "Answer: (d)"
   ]
  },
  {
   "cell_type": "markdown",
   "metadata": {},
   "source": [
    "===Bayesian document classification===\n",
    "\n",
    "MT3. When building a Bayesian document classifier, Laplace smoothing serves what purpose?\n",
    "\n",
    "(a) It allows you to use your training data as your validation data.\n",
    "\n",
    "(b) It prevents zero-products in the posterior distribution.\n",
    "\n",
    "(c) It accounts for words that were missed by regular expressions. \n",
    "\n",
    "(d) None of the above\n",
    "\n"
   ]
  },
  {
   "cell_type": "markdown",
   "metadata": {},
   "source": [
    "Answer: (b)"
   ]
  },
  {
   "cell_type": "markdown",
   "metadata": {},
   "source": [
    "===Bias-variance tradeoff===\n",
    "\n",
    "MT4. By increasing the complexity of a model regressed on some samples of data,\n",
    "it is likely that the ensemble will exhibit which of the following?\n",
    "\n",
    "(a) Increased variance and bias\n",
    "\n",
    "(b) Increased variance and decreased bias\n",
    "\n",
    "(c) Decreased variance and bias\n",
    "\n",
    "(d) Decreased variance and increased bias\n"
   ]
  },
  {
   "cell_type": "markdown",
   "metadata": {},
   "source": [
    "Answer: (d)"
   ]
  },
  {
   "cell_type": "markdown",
   "metadata": {},
   "source": [
    "===Combiners===\n",
    "\n",
    "MT5. Combiners can be integral to the successful utilization of the Hadoop shuffle.\n",
    "This utility is as a result of\n",
    "\n",
    "(a) minimization of reducer workload\n",
    "\n",
    "(b) both (a) and (c)\n",
    "\n",
    "(c) minimization of network traffic\n",
    "\n",
    "(d) none of the above\n",
    "\n"
   ]
  },
  {
   "cell_type": "markdown",
   "metadata": {},
   "source": [
    "Answer: (b)"
   ]
  },
  {
   "cell_type": "markdown",
   "metadata": {},
   "source": [
    "===Pairwise similarity using K-L divergence===\n",
    "\n",
    "In probability theory and information theory, the Kullback–Leibler divergence \n",
    "(also information divergence, information gain, relative entropy, KLIC, or KL divergence) \n",
    "is a non-symmetric measure of the difference between two probability distributions P and Q. \n",
    "Specifically, the Kullback–Leibler divergence of Q from P, denoted DKL(P‖Q), \n",
    "is a measure of the information lost when Q is used to approximate P:\n",
    "\n",
    "For discrete probability distributions P and Q, \n",
    "the Kullback–Leibler divergence of Q from P is defined to be\n",
    "\n",
    "KLDistance(P, Q) = Sum over i (P(i) log (P(i) / Q(i))      \n",
    "\n",
    "In the extreme cases, the KL Divergence is 1 when P and Q are maximally different\n",
    "and is 0 when the two distributions are exactly the same (follow the same distribution).\n",
    "\n",
    "For more information on K-L Divergence see:\n",
    "\n",
    "https://en.wikipedia.org/wiki/Kullback%E2%80%93Leibler_divergence\n",
    "\n",
    "For the next three question we will use an MRjob class for calculating pairwise similarity \n",
    "using K-L Divergence as the similarity measure:\n",
    "\n",
    "Job 1: create inverted index (assume just two objects)\n",
    "Job 2: calculate/accumulate the similarity of each pair of objects using K-L Divergence\n",
    "\n",
    "Download the following notebook and then fill in the code for the first reducer to calculate \n",
    "the K-L divergence of objects (letter documents) in line1 and line2, i.e., KLD(Line1||line2).\n",
    "\n",
    "Here we ignore characters which are not alphabetical. And all alphabetical characters are lower-cased in the first mapper.\n",
    "\n",
    "http://nbviewer.ipython.org/urls/dl.dropbox.com/s/9onx4c2dujtkgd7/Kullback%E2%80%93Leibler%20divergence-MIDS-Midterm.ipynb\n",
    "https://www.dropbox.com/s/zr9xfhwakrxz9hc/Kullback%E2%80%93Leibler%20divergence-MIDS-Midterm.ipynb?dl=0"
   ]
  },
  {
   "cell_type": "code",
   "execution_count": 1,
   "metadata": {
    "collapsed": false
   },
   "outputs": [
    {
     "name": "stdout",
     "output_type": "stream",
     "text": [
      "Writing kldivergence.py\n"
     ]
    }
   ],
   "source": [
    "%%writefile kldivergence.py\n",
    "#!/usr/bin/env python\n",
    "from mrjob.job import MRJob\n",
    "from mrjob.step import MRStep\n",
    "import re\n",
    "import numpy as np\n",
    "\n",
    "class kldivergence(MRJob):\n",
    "    ## line 1 = P\n",
    "    ## line 2 = Q\n",
    "    \n",
    "    def mapper1(self, _, line):\n",
    "        index = int(line.split('.',1)[0])\n",
    "        ## replaces everything that is not a letter into nothing\n",
    "        # all letters get smushed into one big line\n",
    "        letter_list = re.sub(r\"[^A-Za-z]+\", '', line).lower()\n",
    "        count = {}\n",
    "        # Count occurances of each character\n",
    "        for l in letter_list:\n",
    "            if count.has_key(l):\n",
    "                count[l] += 1\n",
    "            # still counts 1, so no log(0)\n",
    "            else:\n",
    "                count[l] = 1\n",
    "        for key in count:\n",
    "            yield key, [index, count[key]*1.0/len(letter_list)]\n",
    "\n",
    "\n",
    "    def reducer1(self, letter, index_prior_pair):\n",
    "        #Fill in your code\n",
    "        # emit partial sums of KLD for each i\n",
    "        # where i is a letter\n",
    "        P_dict = {}\n",
    "        Q_dict = {}\n",
    "        \n",
    "        for index, prior in index_prior_pair:\n",
    "            if index == 1:\n",
    "                P_dict.setdefault(letter,1)\n",
    "                P_dict[letter] = float(prior)\n",
    "            \n",
    "            if index == 2:\n",
    "                Q_dict.setdefault(letter,1)\n",
    "                Q_dict[letter] = float(prior)\n",
    "            \n",
    "            # partial sum can also be written as:\n",
    "            # p(i)*log(p(i) - p(i)*log(q(i)) \n",
    "            # --> if q(i) is 0, second term is basically 0 \n",
    "            \n",
    "            for key in P_dict.keys():\n",
    "                term1 = P_dict[key] * np.log(P_dict[key])\n",
    "                try: \n",
    "                    term2 = P_dict[key] * np.log(Q_dict[key])\n",
    "                    partial_sum = term1 - term2\n",
    "                    yield key, partial_sum\n",
    "                except KeyError:\n",
    "                    partial_sum = 0\n",
    "                    yield key, partial_sum\n",
    "                \n",
    "            \n",
    "    def combiner2(self, key, values):\n",
    "        kl_sum = 0\n",
    "        for value in values:\n",
    "            kl_sum = kl_sum + value\n",
    "        yield None, kl_sum\n",
    "        \n",
    "    def reducer2(self, key, values):\n",
    "        kl_sum = 0\n",
    "        for value in values:\n",
    "            kl_sum = kl_sum + value\n",
    "        yield None, kl_sum\n",
    "        \n",
    "            \n",
    "    def steps(self):\n",
    "        return [MRStep(mapper=self.mapper1,\n",
    "                        reducer=self.reducer1),\n",
    "                MRStep(combiner = self.combiner2,\n",
    "                       reducer=self.reducer2)]\n",
    "\n",
    "if __name__ == '__main__':\n",
    "    kldivergence.run()"
   ]
  },
  {
   "cell_type": "code",
   "execution_count": 4,
   "metadata": {
    "collapsed": false
   },
   "outputs": [
    {
     "name": "stdout",
     "output_type": "stream",
     "text": [
      "(None, 0.08088278445318145)\n"
     ]
    }
   ],
   "source": [
    "from kldivergence import kldivergence\n",
    "mr_job = kldivergence(args=['/Users/Safyre/Documents/W261_Midterm_Prep/kltext.txt'])\n",
    "with mr_job.make_runner() as runner: \n",
    "    runner.run()\n",
    "    # stream_output: get access of the output \n",
    "    for line in runner.stream_output():\n",
    "        print mr_job.parse_output_line(line)"
   ]
  },
  {
   "cell_type": "markdown",
   "metadata": {},
   "source": [
    "MT6. Which number below is the closest to the result you get for KLD(Line1||line2)?\n",
    "(a) 0.7\n",
    "(b) 0.5\n",
    "(c) 0.2\n",
    "(d) 0.1"
   ]
  },
  {
   "cell_type": "markdown",
   "metadata": {},
   "source": [
    "Answer: (d) 0.1"
   ]
  },
  {
   "cell_type": "markdown",
   "metadata": {},
   "source": [
    "MT7. Which of the following letters are missing from these character vectors?\n",
    "(a) p and t\n",
    "\n",
    "(b) k and q\n",
    "\n",
    "(c) j and q\n",
    "\n",
    "(d) j and f"
   ]
  },
  {
   "cell_type": "code",
   "execution_count": 5,
   "metadata": {
    "collapsed": false
   },
   "outputs": [
    {
     "name": "stdout",
     "output_type": "stream",
     "text": [
      "j\n",
      "q\n",
      "z\n"
     ]
    }
   ],
   "source": [
    "## Part 7:\n",
    "import string, re\n",
    "alphabet=string.ascii_lowercase\n",
    "\n",
    "str1 = \"Data Science is an interdisciplinary field about processes and systems to extract knowledge or insights from large volumes of data in various forms (data in various forms, data in various forms, data in various forms), either structured or unstructured,[1][2] which is a continuation of some of the data analysis fields such as statistics, data mining and predictive analytics, as well as Knowledge Discovery in Databases\"\n",
    "str2 = \"Machine learning is a subfield of computer science[1] that evolved from the study of pattern recognition and computational learning theory in artificial intelligence.[1] Machine learning explores the study and construction of algorithms that can learn from and make predictions on data.[2] Such algorithms operate by building a model from example inputs in order to make data-driven predictions or decisions,[3]:2 rather than following strictly static program instructions\"\n",
    "\n",
    "tot_str = str1+str2\n",
    "\n",
    "tot_str = re.sub(r\"[^A-Za-z]+\", '', tot_str).lower()\n",
    "\n",
    "#print set(tot_str)\n",
    "for i in alphabet:\n",
    "    if i not in tot_str:\n",
    "        print i"
   ]
  },
  {
   "cell_type": "markdown",
   "metadata": {},
   "source": [
    "Answer: (c)"
   ]
  },
  {
   "cell_type": "markdown",
   "metadata": {},
   "source": [
    "MT8. The KL divergence on multinomials is defined only when they have nonzero entries. \n",
    "For zero entries, we have to smooth distributions. Suppose we smooth in this way: \n",
    "\n",
    "(ni+1)/(n+24)\n",
    "\n",
    "where ni is the count for letter i and n is the total count of all letters. \n",
    "\n",
    "After smoothing, which number below is the closest to the result you get for KLD(Line1||line2)??\n",
    "\n",
    "(a) 0.08\n",
    "\n",
    "(b) 0.71\n",
    "\n",
    "(c) 0.02\n",
    "\n",
    "(d) 0.11"
   ]
  },
  {
   "cell_type": "code",
   "execution_count": 6,
   "metadata": {
    "collapsed": false
   },
   "outputs": [
    {
     "name": "stdout",
     "output_type": "stream",
     "text": [
      "Writing kldivergencesmooth.py\n"
     ]
    }
   ],
   "source": [
    "%%writefile kldivergencesmooth.py\n",
    "#!/usr/bin/env python\n",
    "from mrjob.job import MRJob\n",
    "from mrjob.step import MRStep\n",
    "import re\n",
    "import numpy as np\n",
    "\n",
    "class kldivergencesmooth(MRJob):\n",
    "    ## line 1 = P\n",
    "    ## line 2 = Q\n",
    "    \n",
    "    def mapper1(self, _, line):\n",
    "        index = int(line.split('.',1)[0])\n",
    "        ## replaces everything that is not a letter into nothing\n",
    "        # all letters get smushed into one big line\n",
    "        letter_list = re.sub(r\"[^A-Za-z]+\", '', line).lower()\n",
    "        count = {}\n",
    "        # Count occurances of each character\n",
    "        for l in letter_list:\n",
    "            if count.has_key(l):\n",
    "                count[l] += 1\n",
    "            # still counts 1, so no log(0)\n",
    "            else:\n",
    "                count[l] = 1\n",
    "        for key in count:\n",
    "            yield key, [index, (count[key]*1.0+1)/(len(letter_list)+24)]\n",
    "\n",
    "\n",
    "    def reducer1(self, letter, index_prior_pair):\n",
    "        #Fill in your code\n",
    "        # emit partial sums of KLD for each i\n",
    "        # where i is a letter\n",
    "        P_dict = {}\n",
    "        Q_dict = {}\n",
    "        \n",
    "        for index, prior in index_prior_pair:\n",
    "            if index == 1:\n",
    "                P_dict.setdefault(letter,1)\n",
    "                P_dict[letter] = float(prior)\n",
    "            \n",
    "            if index == 2:\n",
    "                Q_dict.setdefault(letter,1)\n",
    "                Q_dict[letter] = float(prior)\n",
    "            \n",
    "            # partial sum can also be written as:\n",
    "            # p(i)*log(p(i) - p(i)*log(q(i)) \n",
    "            # --> if q(i) is 0, second term is basically 0 \n",
    "            \n",
    "            for key in P_dict.keys():\n",
    "                term1 = P_dict[key] * np.log(P_dict[key])\n",
    "                try: \n",
    "                    term2 = P_dict[key] * np.log(Q_dict[key])\n",
    "                    partial_sum = term1 - term2\n",
    "                    yield key, partial_sum\n",
    "                except KeyError:\n",
    "                    partial_sum = 0\n",
    "                    yield key, partial_sum\n",
    "                \n",
    "            \n",
    "    def combiner2(self, key, values):\n",
    "        kl_sum = 0\n",
    "        for value in values:\n",
    "            kl_sum = kl_sum + value\n",
    "        yield None, kl_sum\n",
    "        \n",
    "    def reducer2(self, key, values):\n",
    "        kl_sum = 0\n",
    "        for value in values:\n",
    "            kl_sum = kl_sum + value\n",
    "        yield None, kl_sum\n",
    "        \n",
    "            \n",
    "    def steps(self):\n",
    "        return [MRStep(mapper=self.mapper1,\n",
    "                        reducer=self.reducer1),\n",
    "                MRStep(combiner = self.combiner2,\n",
    "                       reducer=self.reducer2)]\n",
    "\n",
    "if __name__ == '__main__':\n",
    "    kldivergencesmooth.run()"
   ]
  },
  {
   "cell_type": "code",
   "execution_count": 7,
   "metadata": {
    "collapsed": false
   },
   "outputs": [
    {
     "name": "stdout",
     "output_type": "stream",
     "text": [
      "(None, 0.06726997279170045)\n"
     ]
    }
   ],
   "source": [
    "from kldivergencesmooth import kldivergencesmooth\n",
    "mr_job = kldivergencesmooth(args=['/Users/Safyre/Documents/W261_Midterm_Prep/kltext.txt'])\n",
    "with mr_job.make_runner() as runner: \n",
    "    runner.run()\n",
    "    # stream_output: get access of the output \n",
    "    for line in runner.stream_output():\n",
    "        print mr_job.parse_output_line(line)"
   ]
  },
  {
   "cell_type": "code",
   "execution_count": null,
   "metadata": {
    "collapsed": true
   },
   "outputs": [],
   "source": [
    "Answer: (a)"
   ]
  },
  {
   "cell_type": "code",
   "execution_count": null,
   "metadata": {
    "collapsed": true
   },
   "outputs": [],
   "source": []
  },
  {
   "cell_type": "markdown",
   "metadata": {},
   "source": [
    "===Gradient descent===\n",
    "\n",
    "MT9. Which of the following are true statements with respect to gradient descent for machine learning, where alpha is the learning rate. Select all that apply\n",
    "\n",
    "(a) To make gradient descent converge, we must slowly decrease alpha over time and use a combiner in the context of Hadoop.\n",
    "\n",
    "\n",
    "(b) Gradient descent is guaranteed to find the global minimum for any function J() regardless of using a combiner or not in the context of Hadoop\n",
    "\n",
    "(c) Gradient descent can converge even if alpha is kept fixed. (But alpha cannot be too large, or else it may fail to converge.) Combiners will help speed up the process.\n",
    "\n",
    "(d) For the specific choice of cost function J() used in linear regression, there is no local optima (other than the global optimum)."
   ]
  },
  {
   "cell_type": "markdown",
   "metadata": {},
   "source": [
    "Answer: (c) and (d)"
   ]
  },
  {
   "cell_type": "markdown",
   "metadata": {},
   "source": [
    "===Weighted K-means===\n",
    "\n",
    "Write a MapReduce job in MRJob to do the training at scale of a weighted K-means algorithm.\n",
    "\n",
    "You can write your own code or you can use most of the code from the following notebook:\n",
    "\n",
    "http://nbviewer.ipython.org/urls/dl.dropbox.com/s/kjtdyi10nwmk4ko/MrJobKmeans-MIDS-Midterm.ipynb\n",
    "https://www.dropbox.com/s/kjtdyi10nwmk4ko/MrJobKmeans-MIDS-Midterm.ipynb?dl=0\n",
    "\n",
    "Weight each example as follows using the inverse vector length (Euclidean norm): \n",
    "\n",
    "weight(X)= 1/||X||, \n",
    "\n",
    "where ||X|| = SQRT(X.X)= SQRT(X1^2 + X2^2)\n",
    "\n",
    "Here X is vector made up of X1 and X2.\n",
    "\n",
    "Using the following data answer the following questions:\n",
    "\n",
    "https://www.dropbox.com/s/ai1uc3q2ucverly/Kmeandata.csv?dl=0"
   ]
  },
  {
   "cell_type": "code",
   "execution_count": 8,
   "metadata": {
    "collapsed": false
   },
   "outputs": [
    {
     "name": "stdout",
     "output_type": "stream",
     "text": [
      "Writing Kmeans.py\n"
     ]
    }
   ],
   "source": [
    "%%writefile Kmeans.py\n",
    "import numpy as np\n",
    "from numpy import argmin, array, random\n",
    "from mrjob.job import MRJob\n",
    "from mrjob.step import MRJobStep\n",
    "from itertools import chain\n",
    "\n",
    "#Calculate find the nearest centroid for data point \n",
    "def MinDist(datapoint, centroid_points):\n",
    "    datapoint = array(datapoint)\n",
    "    centroid_points = array(centroid_points)\n",
    "    diff = datapoint - centroid_points \n",
    "    diffsq = diff**2\n",
    "    \n",
    "    distances = (diffsq.sum(axis = 1))**0.5\n",
    "    # Get the nearest centroid for each instance\n",
    "    min_idx = argmin(distances)\n",
    "    return min_idx\n",
    "\n",
    "#Check whether centroids converge\n",
    "def stop_criterion(centroid_points_old, centroid_points_new,T):\n",
    "    oldvalue = list(chain(*centroid_points_old))\n",
    "    newvalue = list(chain(*centroid_points_new))\n",
    "    Diff = [abs(x-y) for x, y in zip(oldvalue, newvalue)]\n",
    "    Flag = True\n",
    "    for i in Diff:\n",
    "        if(i>T):\n",
    "            Flag = False\n",
    "            break\n",
    "    return Flag\n",
    "\n",
    "\n",
    "class MRKmeans(MRJob):\n",
    "    centroid_points=[]\n",
    "    k=3    \n",
    "    def steps(self):\n",
    "        return [\n",
    "            MRJobStep(mapper_init = self.mapper_init, mapper=self.mapper,combiner = self.combiner,reducer=self.reducer)\n",
    "               ]\n",
    "    #load centroids info from file\n",
    "    def mapper_init(self):\n",
    "        self.centroid_points = [map(float,s.split('\\n')[0].split(',')) for s in open(\"Centroids.txt\").readlines()]\n",
    "        open('Centroids.txt', 'w').close()\n",
    "    #load data and output the nearest centroid index and data point \n",
    "    def mapper(self, _, line):\n",
    "        D = (map(float,line.split(',')))\n",
    "        idx = MinDist(D,self.centroid_points)\n",
    "        norm = np.sqrt((D[0]**2)+(D[1]**2))\n",
    "        yield int(idx), (norm**-1, D[0],D[1],1)\n",
    "        \n",
    "    #Combine sum of data points locally\n",
    "    def combiner(self, idx, inputdata):\n",
    "        sumx = sumy = num = 0\n",
    "        for weight, x, y, n in inputdata:\n",
    "            num = num + n\n",
    "            sumx = sumx + x*weight\n",
    "            sumy = sumy + y*weight\n",
    "        yield int(idx),(sumx,sumy,num)\n",
    "    #Aggregate sum for each cluster and then calculate the new centroids\n",
    "    def reducer(self, idx, inputdata): \n",
    "        centroids = []\n",
    "        num = [0]*self.k \n",
    "        distances = 0\n",
    "        for i in range(self.k):\n",
    "            centroids.append([0,0])\n",
    "        for x, y, n in inputdata:\n",
    "            num[idx] = num[idx] + n\n",
    "            centroids[idx][0] = centroids[idx][0] + x\n",
    "            centroids[idx][1] = centroids[idx][1] + y\n",
    "        centroids[idx][0] = centroids[idx][0]/num[idx]\n",
    "        centroids[idx][1] = centroids[idx][1]/num[idx]\n",
    "        with open('Centroids.txt', 'a') as f:\n",
    "            f.writelines(str(centroids[idx][0]) + ',' + str(centroids[idx][1]) + '\\n')\n",
    "        yield idx,(centroids[idx][0],centroids[idx][1])\n",
    "        \n",
    "if __name__ == '__main__':\n",
    "    MRKmeans.run()"
   ]
  },
  {
   "cell_type": "code",
   "execution_count": 10,
   "metadata": {
    "collapsed": false
   },
   "outputs": [
    {
     "name": "stdout",
     "output_type": "stream",
     "text": [
      "iteration1:\n",
      "0 [-0.9679507185802757, 0.0025351790126423666]\n",
      "1 [0.9667327574053561, -0.007163503804041002]\n",
      "2 [0.010756330127372938, 0.9660024871240357]\n",
      "\n",
      "\n",
      "iteration2:\n",
      "0 [-0.9679507185802757, 0.0025351790126423666]\n",
      "1 [0.9667327574053561, -0.007163503804041002]\n",
      "2 [0.010756330127372938, 0.9660024871240357]\n",
      "\n",
      "\n",
      "iteration3:\n",
      "0 [-0.9679507185802757, 0.0025351790126423666]\n",
      "1 [0.9667327574053561, -0.007163503804041002]\n",
      "2 [0.010756330127372938, 0.9660024871240357]\n",
      "\n",
      "\n",
      "iteration4:\n",
      "0 [-0.9679507185802757, 0.0025351790126423666]\n",
      "1 [0.9667327574053561, -0.007163503804041002]\n",
      "2 [0.010756330127372938, 0.9660024871240357]\n",
      "\n",
      "\n",
      "iteration5:\n",
      "0 [-0.9679507185802757, 0.0025351790126423666]\n",
      "1 [0.9667327574053561, -0.007163503804041002]\n",
      "2 [0.010756330127372938, 0.9660024871240357]\n",
      "\n",
      "\n",
      "iteration6:\n",
      "0 [-0.9679507185802757, 0.0025351790126423666]\n",
      "1 [0.9667327574053561, -0.007163503804041002]\n",
      "2 [0.010756330127372938, 0.9660024871240357]\n",
      "\n",
      "\n",
      "iteration7:\n",
      "0 [-0.9679507185802757, 0.0025351790126423666]\n",
      "1 [0.9667327574053561, -0.007163503804041002]\n",
      "2 [0.010756330127372938, 0.9660024871240357]\n",
      "\n",
      "\n",
      "iteration8:\n",
      "0 [-0.9679507185802757, 0.0025351790126423666]\n",
      "1 [0.9667327574053561, -0.007163503804041002]\n",
      "2 [0.010756330127372938, 0.9660024871240357]\n",
      "\n",
      "\n",
      "iteration9:\n",
      "0 [-0.9679507185802757, 0.0025351790126423666]\n",
      "1 [0.9667327574053561, -0.007163503804041002]\n",
      "2 [0.010756330127372938, 0.9660024871240357]\n",
      "\n",
      "\n",
      "iteration10:\n",
      "0 [-0.9679507185802757, 0.0025351790126423666]\n",
      "1 [0.9667327574053561, -0.007163503804041002]\n",
      "2 [0.010756330127372938, 0.9660024871240357]\n",
      "\n",
      "\n",
      "Centroids\n",
      "\n",
      "[[-0.9679507185802757, 0.0025351790126423666], [0.9667327574053561, -0.007163503804041002], [0.010756330127372938, 0.9660024871240357]]\n"
     ]
    }
   ],
   "source": [
    "%reload_ext autoreload\n",
    "%autoreload 2\n",
    "from numpy import random, array\n",
    "from Kmeans import MRKmeans, stop_criterion\n",
    "mr_job = MRKmeans(args=['/Users/Safyre/Documents/W261_Midterm_Prep/Kmeandata.csv', '--file=/Users/Safyre/Documents/W261_Midterm_Prep/Centroids.txt'])\n",
    "\n",
    "#Geneate initial centroids\n",
    "centroid_points = [[0,0],[6,3],[3,6]]\n",
    "k = 3\n",
    "with open('Centroids.txt', 'w+') as f:\n",
    "        f.writelines(','.join(str(j) for j in i) + '\\n' for i in centroid_points)\n",
    "\n",
    "# Update centroids iteratively\n",
    "for i in range(10):\n",
    "    # save previous centoids to check convergency\n",
    "    centroid_points_old = centroid_points[:]\n",
    "    print \"iteration\"+str(i+1)+\":\"\n",
    "    with mr_job.make_runner() as runner: \n",
    "        runner.run()\n",
    "        # stream_output: get access of the output \n",
    "        for line in runner.stream_output():\n",
    "            key,value =  mr_job.parse_output_line(line)\n",
    "            print key, value\n",
    "            centroid_points[key] = value\n",
    "    print \"\\n\"\n",
    "    i = i + 1\n",
    "print \"Centroids\\n\"\n",
    "print centroid_points\n",
    "\n"
   ]
  },
  {
   "cell_type": "markdown",
   "metadata": {
    "collapsed": true
   },
   "source": [
    "MT10. Which result below is the closest to the centroids you got after running your weighted K-means code for 10 iterations?\n",
    "\n",
    "(a) (-4.0,0.0), (4.0,0.0), (6.0,6.0)\n",
    "\n",
    "(b) (-4.5,0.0), (4.5,0.0), (0.0,4.5)\n",
    "\n",
    "(c) (-5.5,0.0), (0.0,0.0), (3.0,3.0)\n",
    "\n",
    "(d) (-4.5,0.0), (-4.0,0.0), (0.0,4.5)"
   ]
  },
  {
   "cell_type": "markdown",
   "metadata": {},
   "source": [
    "Answer: (c)"
   ]
  },
  {
   "cell_type": "markdown",
   "metadata": {},
   "source": [
    "MT11. Using the result of the previous question, which number below is the closest \n",
    "to the average weighted distance between each example and its assigned (closest) centroid?\n",
    "\n",
    "The average weighted distance is defined as \n",
    "sum over i  (weighted_distance_i)     /  sum over i (weight_i)\n",
    "\n",
    "(a) 2.5\n",
    "(b) 1.5\n",
    "(c) 0.5\n",
    "(d) 4.0\n"
   ]
  },
  {
   "cell_type": "code",
   "execution_count": null,
   "metadata": {
    "collapsed": true
   },
   "outputs": [],
   "source": [
    "Answer (c)"
   ]
  },
  {
   "cell_type": "markdown",
   "metadata": {},
   "source": [
    "MT12. Which of the following statements are true? Select all that apply. \n",
    "a)\t  Since K-Means is an unsupervised learning algorithm, it cannot overfit the data, and thus it is always better to have as large a number of clusters as is computationally feasible. \n",
    "b)\t  The standard way of initializing K-means is setting μ1=⋯=μk to be equal to a vector of zeros. \n",
    "c)\t  For some datasets, the \"right\" or \"correct\" value of K (the number of clusters) can be ambiguous, and hard even for a human expert looking carefully at the data to decide. \n",
    "d)\t  A good way to initialize K-means is to select K (distinct) examples from the training set and set the cluster centroids equal to these selected examples. "
   ]
  },
  {
   "cell_type": "markdown",
   "metadata": {},
   "source": [
    "Answer: (b), (c), (d)"
   ]
  },
  {
   "cell_type": "code",
   "execution_count": null,
   "metadata": {
    "collapsed": true
   },
   "outputs": [],
   "source": []
  }
 ],
 "metadata": {
  "kernelspec": {
   "display_name": "Python 2",
   "language": "python",
   "name": "python2"
  },
  "language_info": {
   "codemirror_mode": {
    "name": "ipython",
    "version": 2
   },
   "file_extension": ".py",
   "mimetype": "text/x-python",
   "name": "python",
   "nbconvert_exporter": "python",
   "pygments_lexer": "ipython2",
   "version": "2.7.11"
  }
 },
 "nbformat": 4,
 "nbformat_minor": 0
}
