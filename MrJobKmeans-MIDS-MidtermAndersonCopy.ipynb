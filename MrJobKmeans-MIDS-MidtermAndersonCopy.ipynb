{
 "cells": [
  {
   "cell_type": "markdown",
   "metadata": {
    "collapsed": true
   },
   "source": [
    "#DATASCI W261: Machine Learning at Scale"
   ]
  },
  {
   "cell_type": "markdown",
   "metadata": {},
   "source": [
    "# MrJob class for Kmeans"
   ]
  },
  {
   "cell_type": "markdown",
   "metadata": {},
   "source": [
    "### If you want to change the code, please edit Kmeans.py directly"
   ]
  },
  {
   "cell_type": "code",
   "execution_count": 5,
   "metadata": {
    "collapsed": false
   },
   "outputs": [
    {
     "name": "stdout",
     "output_type": "stream",
     "text": [
      "Overwriting Kmeans.py\n"
     ]
    }
   ],
   "source": [
    "%%writefile Kmeans.py\n",
    "import numpy as np\n",
    "from numpy import argmin, array, random\n",
    "from mrjob.job import MRJob\n",
    "from mrjob.step import MRJobStep\n",
    "from itertools import chain\n",
    "\n",
    "#Calculate find the nearest centroid for data point \n",
    "def MinDist(datapoint, centroid_points):\n",
    "    datapoint = array(datapoint)\n",
    "    centroid_points = array(centroid_points)\n",
    "    diff = datapoint - centroid_points \n",
    "    diffsq = diff**2\n",
    "    \n",
    "    distances = (diffsq.sum(axis = 1))**0.5\n",
    "    # Get the nearest centroid for each instance\n",
    "    min_idx = argmin(distances)\n",
    "    return min_idx\n",
    "\n",
    "#Check whether centroids converge\n",
    "def stop_criterion(centroid_points_old, centroid_points_new,T):\n",
    "    oldvalue = list(chain(*centroid_points_old))\n",
    "    newvalue = list(chain(*centroid_points_new))\n",
    "    Diff = [abs(x-y) for x, y in zip(oldvalue, newvalue)]\n",
    "    Flag = True\n",
    "    for i in Diff:\n",
    "        if(i>T):\n",
    "            Flag = False\n",
    "            break\n",
    "    return Flag\n",
    "\n",
    "\n",
    "class MRKmeans(MRJob):\n",
    "    centroid_points=[]\n",
    "    k=3    \n",
    "    def steps(self):\n",
    "        return [\n",
    "            MRJobStep(mapper_init = self.mapper_init, mapper=self.mapper,combiner = self.combiner,reducer=self.reducer)\n",
    "               ]\n",
    "    #load centroids info from file\n",
    "    def mapper_init(self):\n",
    "        self.centroid_points = [map(float,s.split('\\n')[0].split(',')) for s in open(\"Centroids.txt\").readlines()]\n",
    "        open('Centroids.txt', 'w').close()\n",
    "    #load data and output the nearest centroid index and data point \n",
    "    def mapper(self, _, line):\n",
    "        D = (map(float,line.split(',')))\n",
    "        idx = MinDist(D,self.centroid_points)\n",
    "        norm = np.sqrt((D[0]**2)+(D[1]**2))\n",
    "        yield int(idx), (norm**-1, D[0],D[1],1)\n",
    "        \n",
    "    #Combine sum of data points locally\n",
    "    def combiner(self, idx, inputdata):\n",
    "        sumx = sumy = num = 0\n",
    "        for weight, x, y, n in inputdata:\n",
    "            num = num + n\n",
    "            sumx = sumx + x*weight\n",
    "            sumy = sumy + y*weight\n",
    "        yield int(idx),(sumx,sumy,num)\n",
    "    #Aggregate sum for each cluster and then calculate the new centroids\n",
    "    def reducer(self, idx, inputdata): \n",
    "        centroids = []\n",
    "        num = [0]*self.k \n",
    "        distances = 0\n",
    "        for i in range(self.k):\n",
    "            centroids.append([0,0])\n",
    "        for x, y, n in inputdata:\n",
    "            num[idx] = num[idx] + n\n",
    "            centroids[idx][0] = centroids[idx][0] + x\n",
    "            centroids[idx][1] = centroids[idx][1] + y\n",
    "        centroids[idx][0] = centroids[idx][0]/num[idx]\n",
    "        centroids[idx][1] = centroids[idx][1]/num[idx]\n",
    "        with open('Centroids.txt', 'a') as f:\n",
    "            f.writelines(str(centroids[idx][0]) + ',' + str(centroids[idx][1]) + '\\n')\n",
    "        yield idx,(centroids[idx][0],centroids[idx][1])\n",
    "        \n",
    "if __name__ == '__main__':\n",
    "    MRKmeans.run()"
   ]
  },
  {
   "cell_type": "markdown",
   "metadata": {},
   "source": [
    "# Driver:"
   ]
  },
  {
   "cell_type": "markdown",
   "metadata": {},
   "source": [
    "Generate random initial centroids\n",
    "\n",
    "New Centroids = initial centroids\n",
    "\n",
    "While(1)：\n",
    "+ Cacluate new centroids\n",
    "+ stop if new centroids close to old centroids\n",
    "+ Updates centroids "
   ]
  },
  {
   "cell_type": "code",
   "execution_count": 6,
   "metadata": {
    "collapsed": false
   },
   "outputs": [
    {
     "name": "stdout",
     "output_type": "stream",
     "text": [
      "iteration1:\n",
      "0 [-0.6185598458783587, 0.10121214013110123]\n",
      "1 [0.9741507159200979, 0.033897959732550026]\n",
      "2 [0.05290992672522764, 0.9732359389851719]\n",
      "\n",
      "\n",
      "iteration2:\n",
      "0 [-0.9686603376120722, 0.0004953401480519062]\n",
      "1 [0.9667327574053561, -0.007163503804041002]\n",
      "2 [0.008537284955669622, 0.965151249337708]\n",
      "\n",
      "\n",
      "iteration3:\n",
      "0 [-0.9679507185802757, 0.0025351790126423666]\n",
      "1 [0.9667327574053561, -0.007163503804041002]\n",
      "2 [0.010756330127372938, 0.9660024871240357]\n",
      "\n",
      "\n",
      "iteration4:\n",
      "0 [-0.9679507185802757, 0.0025351790126423666]\n",
      "1 [0.9667327574053561, -0.007163503804041002]\n",
      "2 [0.010756330127372938, 0.9660024871240357]\n",
      "\n",
      "\n",
      "iteration5:\n",
      "0 [-0.9679507185802757, 0.0025351790126423666]\n",
      "1 [0.9667327574053561, -0.007163503804041002]\n",
      "2 [0.010756330127372938, 0.9660024871240357]\n",
      "\n",
      "\n",
      "iteration6:\n",
      "0 [-0.9679507185802757, 0.0025351790126423666]\n",
      "1 [0.9667327574053561, -0.007163503804041002]\n",
      "2 [0.010756330127372938, 0.9660024871240357]\n",
      "\n",
      "\n",
      "iteration7:\n",
      "0 [-0.9679507185802757, 0.0025351790126423666]\n",
      "1 [0.9667327574053561, -0.007163503804041002]\n",
      "2 [0.010756330127372938, 0.9660024871240357]\n",
      "\n",
      "\n",
      "iteration8:\n",
      "0 [-0.9679507185802757, 0.0025351790126423666]\n",
      "1 [0.9667327574053561, -0.007163503804041002]\n",
      "2 [0.010756330127372938, 0.9660024871240357]\n",
      "\n",
      "\n",
      "iteration9:\n",
      "0 [-0.9679507185802757, 0.0025351790126423666]\n",
      "1 [0.9667327574053561, -0.007163503804041002]\n",
      "2 [0.010756330127372938, 0.9660024871240357]\n",
      "\n",
      "\n",
      "iteration10:\n",
      "0 [-0.9679507185802757, 0.0025351790126423666]\n",
      "1 [0.9667327574053561, -0.007163503804041002]\n",
      "2 [0.010756330127372938, 0.9660024871240357]\n",
      "\n",
      "\n",
      "Centroids\n",
      "\n",
      "[[-0.9679507185802757, 0.0025351790126423666], [0.9667327574053561, -0.007163503804041002], [0.010756330127372938, 0.9660024871240357]]\n"
     ]
    }
   ],
   "source": [
    "%reload_ext autoreload\n",
    "%autoreload 2\n",
    "from numpy import random, array\n",
    "from Kmeans import MRKmeans, stop_criterion\n",
    "mr_job = MRKmeans(args=['Kmeandata.csv', '--file=/Users/Safyre/Documents/W261_Midterm_Prep/Centroids.txt'])\n",
    "\n",
    "#Geneate initial centroids\n",
    "centroid_points = [[0,0],[6,3],[3,6]]\n",
    "k = 3\n",
    "with open('Centroids.txt', 'w+') as f:\n",
    "        f.writelines(','.join(str(j) for j in i) + '\\n' for i in centroid_points)\n",
    "\n",
    "# Update centroids iteratively\n",
    "for i in range(10):\n",
    "    # save previous centoids to check convergency\n",
    "    centroid_points_old = centroid_points[:]\n",
    "    print \"iteration\"+str(i+1)+\":\"\n",
    "    with mr_job.make_runner() as runner: \n",
    "        runner.run()\n",
    "        # stream_output: get access of the output \n",
    "        for line in runner.stream_output():\n",
    "            key,value =  mr_job.parse_output_line(line)\n",
    "            print key, value\n",
    "            centroid_points[key] = value\n",
    "    print \"\\n\"\n",
    "    i = i + 1\n",
    "print \"Centroids\\n\"\n",
    "print centroid_points\n"
   ]
  },
  {
   "cell_type": "code",
   "execution_count": null,
   "metadata": {
    "collapsed": true
   },
   "outputs": [],
   "source": []
  }
 ],
 "metadata": {
  "kernelspec": {
   "display_name": "Python 2",
   "language": "python",
   "name": "python2"
  },
  "language_info": {
   "codemirror_mode": {
    "name": "ipython",
    "version": 2
   },
   "file_extension": ".py",
   "mimetype": "text/x-python",
   "name": "python",
   "nbconvert_exporter": "python",
   "pygments_lexer": "ipython2",
   "version": "2.7.11"
  }
 },
 "nbformat": 4,
 "nbformat_minor": 0
}
